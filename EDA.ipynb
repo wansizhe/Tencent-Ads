{
 "cells": [
  {
   "cell_type": "code",
   "execution_count": 1,
   "metadata": {},
   "outputs": [],
   "source": [
    "import numpy as np\n",
    "import pandas as pd\n",
    "from sklearn.model_selection import train_test_split, KFold, StratifiedKFold\n",
    "from sklearn.feature_extraction.text import TfidfVectorizer\n",
    "from sklearn.svm import LinearSVC\n",
    "from sklearn.metrics import f1_score\n",
    "\n",
    "train_path = \"./data/train_preliminary/\"\n",
    "test_path = \"./data/test/\""
   ]
  },
  {
   "cell_type": "code",
   "execution_count": 3,
   "metadata": {},
   "outputs": [
    {
     "name": "stdout",
     "output_type": "stream",
     "text": [
      "Loading data ... \n",
      "Data loaded !\n"
     ]
    }
   ],
   "source": [
    "print(\"Loading data ... \")\n",
    "user = pd.read_csv(train_path + \"user.csv\")\n",
    "ad = pd.read_csv(train_path + \"ad.csv\")\n",
    "log = pd.read_csv(train_path + \"click_log.csv\")\n",
    "test_log = pd.read_csv(test_path + \"click_log.csv\")\n",
    "print(\"Data loaded !\")    "
   ]
  },
  {
   "cell_type": "code",
   "execution_count": 29,
   "metadata": {},
   "outputs": [
    {
     "name": "stdout",
     "output_type": "stream",
     "text": [
      "Processing data ...\n",
      "Finished !\n"
     ]
    }
   ],
   "source": [
    "print(\"Processing data ...\")\n",
    "# logs = pd.concat([log, test_log])\n",
    "log['creative_id_str'] = log['creative_id'].map(lambda x: str(x))\n",
    "sent = log.groupby(['user_id']).apply(lambda x: x['creative_id_str'].tolist())\n",
    "sent2 = log.groupby(['user_id']).apply(lambda x: x['creative_id_str'])\n",
    "print(\"Finished !\")"
   ]
  },
  {
   "cell_type": "code",
   "execution_count": 32,
   "metadata": {},
   "outputs": [
    {
     "data": {
      "text/plain": [
       "user_id\n",
       "1         [71691, 821396, 209778, 877468, 3068256, 16837...\n",
       "2         [4194247, 3765766, 22013, 155822, 63441, 16575...\n",
       "3         [2556703, 3255755, 710859, 3386299, 825434, 21...\n",
       "4         [1962706, 2741116, 574787, 2965543, 2264105, 3...\n",
       "5         [2386115, 2326983, 75011, 3804062, 1384893, 43...\n",
       "6         [1122285, 2851271, 1122285, 11212, 2145533, 21...\n",
       "7         [648402, 2723246, 1483377, 126311, 2069959, 40...\n",
       "8         [3320149, 1442706, 3514114, 2361397, 3521819, ...\n",
       "9         [2171867, 2822877, 88325, 3042304, 1217767, 15...\n",
       "10        [134938, 69204, 197464, 1626693, 42577, 333178...\n",
       "11        [3483750, 71688, 2823222, 1232816, 35568, 1232...\n",
       "12        [2422601, 1387469, 33918, 2533390, 33918, 4506...\n",
       "13        [2278878, 1277386, 2574736, 1599446, 468194, 2...\n",
       "14        [53070, 675360, 53070, 2915745, 83505, 2915745...\n",
       "15        [494676, 4315931, 2056403, 162488, 2524263, 51...\n",
       "16        [3374786, 1505826, 3466457, 2988201, 214469, 3...\n",
       "17        [2409103, 2281342, 69204, 2323457, 670080, 232...\n",
       "18        [2697688, 4176177, 66299, 441518, 72773, 44151...\n",
       "19        [366858, 193906, 887802, 1555407, 1930167, 214...\n",
       "20        [48246, 63342, 33944, 395892, 2085566, 625069,...\n",
       "21        [3426236, 588681, 358087, 4024830, 37295, 2634...\n",
       "22        [1059710, 2996159, 1100760, 498385, 19526, 937...\n",
       "23        [2898287, 447694, 4012454, 1763715, 4310811, 2...\n",
       "24        [1779167, 671428, 2564016, 136776, 1056382, 76...\n",
       "25        [4007998, 3778999, 3701384, 1082424, 652872, 1...\n",
       "26        [4187731, 2458090, 1145475, 2736112, 3473609, ...\n",
       "27        [2998018, 2647536, 3044860, 1544440, 3795976, ...\n",
       "28        [3358774, 311867, 2293794, 2694147, 1080226, 4...\n",
       "29        [3509751, 2425264, 3674270, 3388052, 2917501, ...\n",
       "30        [74271, 648619, 624498, 3570911, 624498, 9985,...\n",
       "                                ...                        \n",
       "899971    [47512, 4254716, 47512, 2897947, 47512, 386090...\n",
       "899972    [2312947, 115018, 4379918, 1216557, 3344916, 1...\n",
       "899973    [1392385, 391390, 92108, 158209, 607367, 13518...\n",
       "899974    [66272, 3072723, 66272, 1865485, 4381283, 1915...\n",
       "899975    [267775, 1897951, 541925, 2778210, 3991341, 20...\n",
       "899976    [3098916, 504014, 126417, 243699, 2777147, 254...\n",
       "899977    [1676007, 432760, 1638771, 1107117, 432922, 10...\n",
       "899978    [490664, 2306013, 1367666, 4237932, 3999191, 7...\n",
       "899979    [11032, 3102053, 106733, 36947, 3235750, 36947...\n",
       "899980    [2435458, 3295021, 2716666, 391390, 2799401, 2...\n",
       "899981    [3348049, 69204, 53910, 161335, 146045, 897510...\n",
       "899982    [3440507, 1145367, 3600750, 2786833, 287102, 2...\n",
       "899983    [3278933, 32550, 36490, 183014, 70469, 613244,...\n",
       "899984    [1598590, 421456, 2261612, 620190, 2760714, 62...\n",
       "899985    [313268, 2603953, 925456, 2827114, 1718058, 43...\n",
       "899986    [11052, 2819270, 11052, 3153742, 24046, 430961...\n",
       "899987    [9985, 267775, 9985, 110271, 198529, 1350996, ...\n",
       "899988    [2288869, 150031, 3557823, 125836, 3780808, 39...\n",
       "899989    [3226773, 23562, 3724651, 2576743, 882346, 407...\n",
       "899990    [97463, 612517, 121993, 2281253, 3032742, 4481...\n",
       "899991    [2270977, 2853117, 2293838, 2879714, 2406161, ...\n",
       "899992    [1735438, 3265099, 3165877, 27216, 196065, 124...\n",
       "899993    [273715, 1410737, 1798370, 1524047, 1876467, 3...\n",
       "899994    [105154, 260847, 1401184, 424579, 1909932, 147...\n",
       "899995    [2293978, 2738748, 2959934, 221836, 2974660, 4...\n",
       "899996    [654526, 2611415, 939409, 2611415, 1477926, 92...\n",
       "899997    [7400, 3011222, 60330, 1143180, 177415, 127573...\n",
       "899998    [648402, 71752, 3537052, 3527177, 1251649, 375...\n",
       "899999    [456738, 1287932, 1513243, 2479870, 2288411, 1...\n",
       "900000    [3391205, 3471208, 4387250, 3527098, 1807163, ...\n",
       "Length: 900000, dtype: object"
      ]
     },
     "execution_count": 32,
     "metadata": {},
     "output_type": "execute_result"
    }
   ],
   "source": [
    "sent"
   ]
  },
  {
   "cell_type": "code",
   "execution_count": 33,
   "metadata": {},
   "outputs": [],
   "source": [
    "train_data = user\n",
    "train_data['log'] = train_data['user_id'].map(lambda x: \" \".join(sent[x]))"
   ]
  },
  {
   "cell_type": "code",
   "execution_count": 34,
   "metadata": {},
   "outputs": [
    {
     "data": {
      "text/html": [
       "<div>\n",
       "<style scoped>\n",
       "    .dataframe tbody tr th:only-of-type {\n",
       "        vertical-align: middle;\n",
       "    }\n",
       "\n",
       "    .dataframe tbody tr th {\n",
       "        vertical-align: top;\n",
       "    }\n",
       "\n",
       "    .dataframe thead th {\n",
       "        text-align: right;\n",
       "    }\n",
       "</style>\n",
       "<table border=\"1\" class=\"dataframe\">\n",
       "  <thead>\n",
       "    <tr style=\"text-align: right;\">\n",
       "      <th></th>\n",
       "      <th>user_id</th>\n",
       "      <th>age</th>\n",
       "      <th>gender</th>\n",
       "      <th>log</th>\n",
       "    </tr>\n",
       "  </thead>\n",
       "  <tbody>\n",
       "    <tr>\n",
       "      <th>0</th>\n",
       "      <td>1</td>\n",
       "      <td>4</td>\n",
       "      <td>1</td>\n",
       "      <td>71691 821396 209778 877468 3068256 1683713 194...</td>\n",
       "    </tr>\n",
       "    <tr>\n",
       "      <th>1</th>\n",
       "      <td>2</td>\n",
       "      <td>10</td>\n",
       "      <td>1</td>\n",
       "      <td>4194247 3765766 22013 155822 63441 1657530 625...</td>\n",
       "    </tr>\n",
       "    <tr>\n",
       "      <th>2</th>\n",
       "      <td>3</td>\n",
       "      <td>7</td>\n",
       "      <td>2</td>\n",
       "      <td>2556703 3255755 710859 3386299 825434 2198902 ...</td>\n",
       "    </tr>\n",
       "    <tr>\n",
       "      <th>3</th>\n",
       "      <td>4</td>\n",
       "      <td>5</td>\n",
       "      <td>1</td>\n",
       "      <td>1962706 2741116 574787 2965543 2264105 3321332...</td>\n",
       "    </tr>\n",
       "    <tr>\n",
       "      <th>4</th>\n",
       "      <td>5</td>\n",
       "      <td>4</td>\n",
       "      <td>1</td>\n",
       "      <td>2386115 2326983 75011 3804062 1384893 43235 14...</td>\n",
       "    </tr>\n",
       "  </tbody>\n",
       "</table>\n",
       "</div>"
      ],
      "text/plain": [
       "   user_id  age  gender                                                log\n",
       "0        1    4       1  71691 821396 209778 877468 3068256 1683713 194...\n",
       "1        2   10       1  4194247 3765766 22013 155822 63441 1657530 625...\n",
       "2        3    7       2  2556703 3255755 710859 3386299 825434 2198902 ...\n",
       "3        4    5       1  1962706 2741116 574787 2965543 2264105 3321332...\n",
       "4        5    4       1  2386115 2326983 75011 3804062 1384893 43235 14..."
      ]
     },
     "execution_count": 34,
     "metadata": {},
     "output_type": "execute_result"
    }
   ],
   "source": [
    "train_data.head()"
   ]
  },
  {
   "cell_type": "code",
   "execution_count": 35,
   "metadata": {},
   "outputs": [
    {
     "ename": "KeyboardInterrupt",
     "evalue": "",
     "output_type": "error",
     "traceback": [
      "\u001b[0;31m---------------------------------------------------------------------------\u001b[0m",
      "\u001b[0;31mKeyboardInterrupt\u001b[0m                         Traceback (most recent call last)",
      "\u001b[0;32m<ipython-input-35-9269264defea>\u001b[0m in \u001b[0;36m<module>\u001b[0;34m\u001b[0m\n\u001b[0;32m----> 1\u001b[0;31m \u001b[0mtfidf\u001b[0m \u001b[0;34m=\u001b[0m \u001b[0mTfidfVectorizer\u001b[0m\u001b[0;34m(\u001b[0m\u001b[0mngram_range\u001b[0m\u001b[0;34m=\u001b[0m\u001b[0;34m(\u001b[0m\u001b[0;36m1\u001b[0m\u001b[0;34m,\u001b[0m \u001b[0;36m3\u001b[0m\u001b[0;34m)\u001b[0m\u001b[0;34m,\u001b[0m \u001b[0mmax_features\u001b[0m\u001b[0;34m=\u001b[0m\u001b[0;36m2000\u001b[0m\u001b[0;34m)\u001b[0m\u001b[0;34m.\u001b[0m\u001b[0mfit\u001b[0m\u001b[0;34m(\u001b[0m\u001b[0mtrain_data\u001b[0m\u001b[0;34m[\u001b[0m\u001b[0;34m'log'\u001b[0m\u001b[0;34m]\u001b[0m\u001b[0;34m.\u001b[0m\u001b[0miloc\u001b[0m\u001b[0;34m[\u001b[0m\u001b[0;34m:\u001b[0m\u001b[0;34m]\u001b[0m\u001b[0;34m.\u001b[0m\u001b[0mvalues\u001b[0m\u001b[0;34m)\u001b[0m\u001b[0;34m\u001b[0m\u001b[0;34m\u001b[0m\u001b[0m\n\u001b[0m\u001b[1;32m      2\u001b[0m \u001b[0mtrain_tfidf\u001b[0m \u001b[0;34m=\u001b[0m \u001b[0mtfidf\u001b[0m\u001b[0;34m.\u001b[0m\u001b[0mtransform\u001b[0m\u001b[0;34m(\u001b[0m\u001b[0mtrain_data\u001b[0m\u001b[0;34m[\u001b[0m\u001b[0;34m'log'\u001b[0m\u001b[0;34m]\u001b[0m\u001b[0;34m.\u001b[0m\u001b[0miloc\u001b[0m\u001b[0;34m[\u001b[0m\u001b[0;34m:\u001b[0m\u001b[0;34m]\u001b[0m\u001b[0;34m.\u001b[0m\u001b[0mvalues\u001b[0m\u001b[0;34m)\u001b[0m\u001b[0;34m\u001b[0m\u001b[0;34m\u001b[0m\u001b[0m\n\u001b[1;32m      3\u001b[0m \u001b[0;34m\u001b[0m\u001b[0m\n\u001b[1;32m      4\u001b[0m \u001b[0mskf\u001b[0m \u001b[0;34m=\u001b[0m \u001b[0mStratifiedKFold\u001b[0m\u001b[0;34m(\u001b[0m\u001b[0mn_splits\u001b[0m\u001b[0;34m=\u001b[0m\u001b[0;36m5\u001b[0m\u001b[0;34m,\u001b[0m \u001b[0mrandom_state\u001b[0m\u001b[0;34m=\u001b[0m\u001b[0;36m7\u001b[0m\u001b[0;34m)\u001b[0m\u001b[0;34m\u001b[0m\u001b[0;34m\u001b[0m\u001b[0m\n\u001b[1;32m      5\u001b[0m \u001b[0mtest_pred\u001b[0m \u001b[0;34m=\u001b[0m \u001b[0mnp\u001b[0m\u001b[0;34m.\u001b[0m\u001b[0mzeros\u001b[0m\u001b[0;34m(\u001b[0m\u001b[0;34m(\u001b[0m\u001b[0mtest_tfidf\u001b[0m\u001b[0;34m.\u001b[0m\u001b[0mshape\u001b[0m\u001b[0;34m[\u001b[0m\u001b[0;36m0\u001b[0m\u001b[0;34m]\u001b[0m\u001b[0;34m,\u001b[0m \u001b[0;36m14\u001b[0m\u001b[0;34m)\u001b[0m\u001b[0;34m,\u001b[0m \u001b[0mdtype\u001b[0m\u001b[0;34m=\u001b[0m\u001b[0mnp\u001b[0m\u001b[0;34m.\u001b[0m\u001b[0mfloat32\u001b[0m\u001b[0;34m)\u001b[0m\u001b[0;34m\u001b[0m\u001b[0;34m\u001b[0m\u001b[0m\n",
      "\u001b[0;32m~/anaconda3/lib/python3.6/site-packages/sklearn/feature_extraction/text.py\u001b[0m in \u001b[0;36mfit\u001b[0;34m(self, raw_documents, y)\u001b[0m\n\u001b[1;32m   1560\u001b[0m         \"\"\"\n\u001b[1;32m   1561\u001b[0m         \u001b[0mself\u001b[0m\u001b[0;34m.\u001b[0m\u001b[0m_check_params\u001b[0m\u001b[0;34m(\u001b[0m\u001b[0;34m)\u001b[0m\u001b[0;34m\u001b[0m\u001b[0;34m\u001b[0m\u001b[0m\n\u001b[0;32m-> 1562\u001b[0;31m         \u001b[0mX\u001b[0m \u001b[0;34m=\u001b[0m \u001b[0msuper\u001b[0m\u001b[0;34m(\u001b[0m\u001b[0mTfidfVectorizer\u001b[0m\u001b[0;34m,\u001b[0m \u001b[0mself\u001b[0m\u001b[0;34m)\u001b[0m\u001b[0;34m.\u001b[0m\u001b[0mfit_transform\u001b[0m\u001b[0;34m(\u001b[0m\u001b[0mraw_documents\u001b[0m\u001b[0;34m)\u001b[0m\u001b[0;34m\u001b[0m\u001b[0;34m\u001b[0m\u001b[0m\n\u001b[0m\u001b[1;32m   1563\u001b[0m         \u001b[0mself\u001b[0m\u001b[0;34m.\u001b[0m\u001b[0m_tfidf\u001b[0m\u001b[0;34m.\u001b[0m\u001b[0mfit\u001b[0m\u001b[0;34m(\u001b[0m\u001b[0mX\u001b[0m\u001b[0;34m)\u001b[0m\u001b[0;34m\u001b[0m\u001b[0;34m\u001b[0m\u001b[0m\n\u001b[1;32m   1564\u001b[0m         \u001b[0;32mreturn\u001b[0m \u001b[0mself\u001b[0m\u001b[0;34m\u001b[0m\u001b[0;34m\u001b[0m\u001b[0m\n",
      "\u001b[0;32m~/anaconda3/lib/python3.6/site-packages/sklearn/feature_extraction/text.py\u001b[0m in \u001b[0;36mfit_transform\u001b[0;34m(self, raw_documents, y)\u001b[0m\n\u001b[1;32m   1016\u001b[0m \u001b[0;34m\u001b[0m\u001b[0m\n\u001b[1;32m   1017\u001b[0m         \u001b[0;32mif\u001b[0m \u001b[0;32mnot\u001b[0m \u001b[0mself\u001b[0m\u001b[0;34m.\u001b[0m\u001b[0mfixed_vocabulary_\u001b[0m\u001b[0;34m:\u001b[0m\u001b[0;34m\u001b[0m\u001b[0;34m\u001b[0m\u001b[0m\n\u001b[0;32m-> 1018\u001b[0;31m             \u001b[0mX\u001b[0m \u001b[0;34m=\u001b[0m \u001b[0mself\u001b[0m\u001b[0;34m.\u001b[0m\u001b[0m_sort_features\u001b[0m\u001b[0;34m(\u001b[0m\u001b[0mX\u001b[0m\u001b[0;34m,\u001b[0m \u001b[0mvocabulary\u001b[0m\u001b[0;34m)\u001b[0m\u001b[0;34m\u001b[0m\u001b[0;34m\u001b[0m\u001b[0m\n\u001b[0m\u001b[1;32m   1019\u001b[0m \u001b[0;34m\u001b[0m\u001b[0m\n\u001b[1;32m   1020\u001b[0m             \u001b[0mn_doc\u001b[0m \u001b[0;34m=\u001b[0m \u001b[0mX\u001b[0m\u001b[0;34m.\u001b[0m\u001b[0mshape\u001b[0m\u001b[0;34m[\u001b[0m\u001b[0;36m0\u001b[0m\u001b[0;34m]\u001b[0m\u001b[0;34m\u001b[0m\u001b[0;34m\u001b[0m\u001b[0m\n",
      "\u001b[0;32m~/anaconda3/lib/python3.6/site-packages/sklearn/feature_extraction/text.py\u001b[0m in \u001b[0;36m_sort_features\u001b[0;34m(self, X, vocabulary)\u001b[0m\n\u001b[1;32m    855\u001b[0m         \u001b[0mmap_index\u001b[0m \u001b[0;34m=\u001b[0m \u001b[0mnp\u001b[0m\u001b[0;34m.\u001b[0m\u001b[0mempty\u001b[0m\u001b[0;34m(\u001b[0m\u001b[0mlen\u001b[0m\u001b[0;34m(\u001b[0m\u001b[0msorted_features\u001b[0m\u001b[0;34m)\u001b[0m\u001b[0;34m,\u001b[0m \u001b[0mdtype\u001b[0m\u001b[0;34m=\u001b[0m\u001b[0mnp\u001b[0m\u001b[0;34m.\u001b[0m\u001b[0mint32\u001b[0m\u001b[0;34m)\u001b[0m\u001b[0;34m\u001b[0m\u001b[0;34m\u001b[0m\u001b[0m\n\u001b[1;32m    856\u001b[0m         \u001b[0;32mfor\u001b[0m \u001b[0mnew_val\u001b[0m\u001b[0;34m,\u001b[0m \u001b[0;34m(\u001b[0m\u001b[0mterm\u001b[0m\u001b[0;34m,\u001b[0m \u001b[0mold_val\u001b[0m\u001b[0;34m)\u001b[0m \u001b[0;32min\u001b[0m \u001b[0menumerate\u001b[0m\u001b[0;34m(\u001b[0m\u001b[0msorted_features\u001b[0m\u001b[0;34m)\u001b[0m\u001b[0;34m:\u001b[0m\u001b[0;34m\u001b[0m\u001b[0;34m\u001b[0m\u001b[0m\n\u001b[0;32m--> 857\u001b[0;31m             \u001b[0mvocabulary\u001b[0m\u001b[0;34m[\u001b[0m\u001b[0mterm\u001b[0m\u001b[0;34m]\u001b[0m \u001b[0;34m=\u001b[0m \u001b[0mnew_val\u001b[0m\u001b[0;34m\u001b[0m\u001b[0;34m\u001b[0m\u001b[0m\n\u001b[0m\u001b[1;32m    858\u001b[0m             \u001b[0mmap_index\u001b[0m\u001b[0;34m[\u001b[0m\u001b[0mold_val\u001b[0m\u001b[0;34m]\u001b[0m \u001b[0;34m=\u001b[0m \u001b[0mnew_val\u001b[0m\u001b[0;34m\u001b[0m\u001b[0;34m\u001b[0m\u001b[0m\n\u001b[1;32m    859\u001b[0m \u001b[0;34m\u001b[0m\u001b[0m\n",
      "\u001b[0;31mKeyboardInterrupt\u001b[0m: "
     ]
    }
   ],
   "source": [
    "tfidf = TfidfVectorizer(ngram_range=(1, 3), max_features=2000).fit(train_data['log'].iloc[:].values)\n",
    "train_tfidf = tfidf.transform(train_data['log'].iloc[:].values)\n",
    "\n",
    "skf = StratifiedKFold(n_splits=5, random_state=7) \n",
    "test_pred = np.zeros((test_tfidf.shape[0], 14), dtype=np.float32)  \n",
    "for idx, (train_index, valid_index) in enumerate(skf.split(train_tfidf, train_data['log'].values)):\n",
    "\n",
    "    x_train_, x_valid_ = train_tfidf[train_index], train_tfidf[valid_index]\n",
    "    y_train_, y_valid_ = train_data['gender'].values[train_index], train_data['log'].values[valid_index]\n",
    "    \n",
    "    clf = LGBMClassifier()\n",
    "    clf.fit(x_train_, y_train_)\n",
    "    val_pred = clf.predict(x_valid_)\n",
    "    \n",
    "    print(f1_score(y_valid_, val_pred, average='macro'))"
   ]
  },
  {
   "cell_type": "code",
   "execution_count": null,
   "metadata": {},
   "outputs": [],
   "source": []
  }
 ],
 "metadata": {
  "kernelspec": {
   "display_name": "Python 3",
   "language": "python",
   "name": "python3"
  },
  "language_info": {
   "codemirror_mode": {
    "name": "ipython",
    "version": 3
   },
   "file_extension": ".py",
   "mimetype": "text/x-python",
   "name": "python",
   "nbconvert_exporter": "python",
   "pygments_lexer": "ipython3",
   "version": "3.6.8"
  }
 },
 "nbformat": 4,
 "nbformat_minor": 2
}
